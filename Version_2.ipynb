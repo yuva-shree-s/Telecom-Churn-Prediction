{
 "cells": [
  {
   "cell_type": "markdown",
   "id": "6d9de7ca",
   "metadata": {},
   "source": [
    "# Import libraries"
   ]
  },
  {
   "cell_type": "code",
   "execution_count": 1,
   "id": "54fd5e33",
   "metadata": {},
   "outputs": [],
   "source": [
    "import pandas as pd\n",
    "import numpy as np\n",
    "import plotly.express as px\n",
    "import plotly.graph_objs as go\n",
    "from sklearn.preprocessing import LabelEncoder\n",
    "from sklearn.preprocessing import MinMaxScaler\n",
    "from sklearn.feature_selection import SelectKBest\n",
    "from sklearn.feature_selection import chi2,f_classif,mutual_info_classif\n",
    "from sklearn.linear_model import LogisticRegression\n",
    "from sklearn import metrics\n",
    "from sklearn.model_selection import train_test_split\n",
    "import warnings\n",
    "warnings.filterwarnings('ignore')\n",
    "from mlxtend.feature_selection import SequentialFeatureSelector as SFS\n",
    "import tensorflow as tf\n",
    "from tensorflow.keras.layers import LSTM, Dense\n",
    "from tensorflow.keras.models import Sequential\n",
    "from tensorflow.keras.layers import Conv2D, MaxPooling2D, Flatten, Dense"
   ]
  },
  {
   "cell_type": "markdown",
   "id": "9851237e",
   "metadata": {},
   "source": [
    "# Import dataset"
   ]
  },
  {
   "cell_type": "code",
   "execution_count": 2,
   "id": "d41ea412",
   "metadata": {},
   "outputs": [],
   "source": [
    "df = pd.read_csv('data.csv')"
   ]
  },
  {
   "cell_type": "code",
   "execution_count": 3,
   "id": "c4bc4daf",
   "metadata": {},
   "outputs": [
    {
     "data": {
      "text/html": [
       "<div>\n",
       "<style scoped>\n",
       "    .dataframe tbody tr th:only-of-type {\n",
       "        vertical-align: middle;\n",
       "    }\n",
       "\n",
       "    .dataframe tbody tr th {\n",
       "        vertical-align: top;\n",
       "    }\n",
       "\n",
       "    .dataframe thead th {\n",
       "        text-align: right;\n",
       "    }\n",
       "</style>\n",
       "<table border=\"1\" class=\"dataframe\">\n",
       "  <thead>\n",
       "    <tr style=\"text-align: right;\">\n",
       "      <th></th>\n",
       "      <th>customerID</th>\n",
       "      <th>gender</th>\n",
       "      <th>SeniorCitizen</th>\n",
       "      <th>Partner</th>\n",
       "      <th>Dependents</th>\n",
       "      <th>tenure</th>\n",
       "      <th>PhoneService</th>\n",
       "      <th>MultipleLines</th>\n",
       "      <th>InternetService</th>\n",
       "      <th>OnlineSecurity</th>\n",
       "      <th>...</th>\n",
       "      <th>DeviceProtection</th>\n",
       "      <th>TechSupport</th>\n",
       "      <th>StreamingTV</th>\n",
       "      <th>StreamingMovies</th>\n",
       "      <th>Contract</th>\n",
       "      <th>PaperlessBilling</th>\n",
       "      <th>PaymentMethod</th>\n",
       "      <th>MonthlyCharges</th>\n",
       "      <th>TotalCharges</th>\n",
       "      <th>Churn</th>\n",
       "    </tr>\n",
       "  </thead>\n",
       "  <tbody>\n",
       "    <tr>\n",
       "      <th>0</th>\n",
       "      <td>7590-VHVEG</td>\n",
       "      <td>Female</td>\n",
       "      <td>0</td>\n",
       "      <td>Yes</td>\n",
       "      <td>No</td>\n",
       "      <td>1</td>\n",
       "      <td>No</td>\n",
       "      <td>No phone service</td>\n",
       "      <td>DSL</td>\n",
       "      <td>No</td>\n",
       "      <td>...</td>\n",
       "      <td>No</td>\n",
       "      <td>No</td>\n",
       "      <td>No</td>\n",
       "      <td>No</td>\n",
       "      <td>Month-to-month</td>\n",
       "      <td>Yes</td>\n",
       "      <td>Electronic check</td>\n",
       "      <td>29.85</td>\n",
       "      <td>29.85</td>\n",
       "      <td>No</td>\n",
       "    </tr>\n",
       "    <tr>\n",
       "      <th>1</th>\n",
       "      <td>5575-GNVDE</td>\n",
       "      <td>Male</td>\n",
       "      <td>0</td>\n",
       "      <td>No</td>\n",
       "      <td>No</td>\n",
       "      <td>34</td>\n",
       "      <td>Yes</td>\n",
       "      <td>No</td>\n",
       "      <td>DSL</td>\n",
       "      <td>Yes</td>\n",
       "      <td>...</td>\n",
       "      <td>Yes</td>\n",
       "      <td>No</td>\n",
       "      <td>No</td>\n",
       "      <td>No</td>\n",
       "      <td>One year</td>\n",
       "      <td>No</td>\n",
       "      <td>Mailed check</td>\n",
       "      <td>56.95</td>\n",
       "      <td>1889.5</td>\n",
       "      <td>No</td>\n",
       "    </tr>\n",
       "    <tr>\n",
       "      <th>2</th>\n",
       "      <td>3668-QPYBK</td>\n",
       "      <td>Male</td>\n",
       "      <td>0</td>\n",
       "      <td>No</td>\n",
       "      <td>No</td>\n",
       "      <td>2</td>\n",
       "      <td>Yes</td>\n",
       "      <td>No</td>\n",
       "      <td>DSL</td>\n",
       "      <td>Yes</td>\n",
       "      <td>...</td>\n",
       "      <td>No</td>\n",
       "      <td>No</td>\n",
       "      <td>No</td>\n",
       "      <td>No</td>\n",
       "      <td>Month-to-month</td>\n",
       "      <td>Yes</td>\n",
       "      <td>Mailed check</td>\n",
       "      <td>53.85</td>\n",
       "      <td>108.15</td>\n",
       "      <td>Yes</td>\n",
       "    </tr>\n",
       "    <tr>\n",
       "      <th>3</th>\n",
       "      <td>7795-CFOCW</td>\n",
       "      <td>Male</td>\n",
       "      <td>0</td>\n",
       "      <td>No</td>\n",
       "      <td>No</td>\n",
       "      <td>45</td>\n",
       "      <td>No</td>\n",
       "      <td>No phone service</td>\n",
       "      <td>DSL</td>\n",
       "      <td>Yes</td>\n",
       "      <td>...</td>\n",
       "      <td>Yes</td>\n",
       "      <td>Yes</td>\n",
       "      <td>No</td>\n",
       "      <td>No</td>\n",
       "      <td>One year</td>\n",
       "      <td>No</td>\n",
       "      <td>Bank transfer (automatic)</td>\n",
       "      <td>42.30</td>\n",
       "      <td>1840.75</td>\n",
       "      <td>No</td>\n",
       "    </tr>\n",
       "    <tr>\n",
       "      <th>4</th>\n",
       "      <td>9237-HQITU</td>\n",
       "      <td>Female</td>\n",
       "      <td>0</td>\n",
       "      <td>No</td>\n",
       "      <td>No</td>\n",
       "      <td>2</td>\n",
       "      <td>Yes</td>\n",
       "      <td>No</td>\n",
       "      <td>Fiber optic</td>\n",
       "      <td>No</td>\n",
       "      <td>...</td>\n",
       "      <td>No</td>\n",
       "      <td>No</td>\n",
       "      <td>No</td>\n",
       "      <td>No</td>\n",
       "      <td>Month-to-month</td>\n",
       "      <td>Yes</td>\n",
       "      <td>Electronic check</td>\n",
       "      <td>70.70</td>\n",
       "      <td>151.65</td>\n",
       "      <td>Yes</td>\n",
       "    </tr>\n",
       "  </tbody>\n",
       "</table>\n",
       "<p>5 rows × 21 columns</p>\n",
       "</div>"
      ],
      "text/plain": [
       "   customerID  gender  SeniorCitizen Partner Dependents  tenure PhoneService  \\\n",
       "0  7590-VHVEG  Female              0     Yes         No       1           No   \n",
       "1  5575-GNVDE    Male              0      No         No      34          Yes   \n",
       "2  3668-QPYBK    Male              0      No         No       2          Yes   \n",
       "3  7795-CFOCW    Male              0      No         No      45           No   \n",
       "4  9237-HQITU  Female              0      No         No       2          Yes   \n",
       "\n",
       "      MultipleLines InternetService OnlineSecurity  ... DeviceProtection  \\\n",
       "0  No phone service             DSL             No  ...               No   \n",
       "1                No             DSL            Yes  ...              Yes   \n",
       "2                No             DSL            Yes  ...               No   \n",
       "3  No phone service             DSL            Yes  ...              Yes   \n",
       "4                No     Fiber optic             No  ...               No   \n",
       "\n",
       "  TechSupport StreamingTV StreamingMovies        Contract PaperlessBilling  \\\n",
       "0          No          No              No  Month-to-month              Yes   \n",
       "1          No          No              No        One year               No   \n",
       "2          No          No              No  Month-to-month              Yes   \n",
       "3         Yes          No              No        One year               No   \n",
       "4          No          No              No  Month-to-month              Yes   \n",
       "\n",
       "               PaymentMethod MonthlyCharges  TotalCharges Churn  \n",
       "0           Electronic check          29.85         29.85    No  \n",
       "1               Mailed check          56.95        1889.5    No  \n",
       "2               Mailed check          53.85        108.15   Yes  \n",
       "3  Bank transfer (automatic)          42.30       1840.75    No  \n",
       "4           Electronic check          70.70        151.65   Yes  \n",
       "\n",
       "[5 rows x 21 columns]"
      ]
     },
     "execution_count": 3,
     "metadata": {},
     "output_type": "execute_result"
    }
   ],
   "source": [
    "df.head()"
   ]
  },
  {
   "cell_type": "code",
   "execution_count": 4,
   "id": "4e630048",
   "metadata": {
    "scrolled": true
   },
   "outputs": [
    {
     "name": "stdout",
     "output_type": "stream",
     "text": [
      "<class 'pandas.core.frame.DataFrame'>\n",
      "RangeIndex: 7043 entries, 0 to 7042\n",
      "Data columns (total 21 columns):\n",
      " #   Column            Non-Null Count  Dtype  \n",
      "---  ------            --------------  -----  \n",
      " 0   customerID        7043 non-null   object \n",
      " 1   gender            7043 non-null   object \n",
      " 2   SeniorCitizen     7043 non-null   int64  \n",
      " 3   Partner           7043 non-null   object \n",
      " 4   Dependents        7043 non-null   object \n",
      " 5   tenure            7043 non-null   int64  \n",
      " 6   PhoneService      7043 non-null   object \n",
      " 7   MultipleLines     7043 non-null   object \n",
      " 8   InternetService   7043 non-null   object \n",
      " 9   OnlineSecurity    7043 non-null   object \n",
      " 10  OnlineBackup      7043 non-null   object \n",
      " 11  DeviceProtection  7043 non-null   object \n",
      " 12  TechSupport       7043 non-null   object \n",
      " 13  StreamingTV       7043 non-null   object \n",
      " 14  StreamingMovies   7043 non-null   object \n",
      " 15  Contract          7043 non-null   object \n",
      " 16  PaperlessBilling  7043 non-null   object \n",
      " 17  PaymentMethod     7043 non-null   object \n",
      " 18  MonthlyCharges    7043 non-null   float64\n",
      " 19  TotalCharges      7043 non-null   object \n",
      " 20  Churn             7043 non-null   object \n",
      "dtypes: float64(1), int64(2), object(18)\n",
      "memory usage: 1.1+ MB\n"
     ]
    }
   ],
   "source": [
    "df.info()"
   ]
  },
  {
   "cell_type": "markdown",
   "id": "546e4c93",
   "metadata": {},
   "source": [
    "There is no missing values in our dataset"
   ]
  },
  {
   "cell_type": "code",
   "execution_count": 5,
   "id": "f1890fd6",
   "metadata": {},
   "outputs": [
    {
     "data": {
      "text/plain": [
       "['customerID',\n",
       " 'gender',\n",
       " 'SeniorCitizen',\n",
       " 'Partner',\n",
       " 'Dependents',\n",
       " 'tenure',\n",
       " 'PhoneService',\n",
       " 'MultipleLines',\n",
       " 'InternetService',\n",
       " 'OnlineSecurity',\n",
       " 'OnlineBackup',\n",
       " 'DeviceProtection',\n",
       " 'TechSupport',\n",
       " 'StreamingTV',\n",
       " 'StreamingMovies',\n",
       " 'Contract',\n",
       " 'PaperlessBilling',\n",
       " 'PaymentMethod',\n",
       " 'MonthlyCharges',\n",
       " 'TotalCharges',\n",
       " 'Churn']"
      ]
     },
     "execution_count": 5,
     "metadata": {},
     "output_type": "execute_result"
    }
   ],
   "source": [
    "list1 = df.columns.to_list()\n",
    "list1"
   ]
  },
  {
   "cell_type": "code",
   "execution_count": 6,
   "id": "9982dcc3",
   "metadata": {},
   "outputs": [],
   "source": [
    "list1.remove('customerID')"
   ]
  },
  {
   "cell_type": "code",
   "execution_count": 7,
   "id": "a0b9d3b8",
   "metadata": {},
   "outputs": [
    {
     "name": "stdout",
     "output_type": "stream",
     "text": [
      "gender : ['Female' 'Male']\n",
      "SeniorCitizen : [0 1]\n",
      "Partner : ['Yes' 'No']\n",
      "Dependents : ['No' 'Yes']\n",
      "tenure : [ 1 34  2 45  8 22 10 28 62 13 16 58 49 25 69 52 71 21 12 30 47 72 17 27\n",
      "  5 46 11 70 63 43 15 60 18 66  9  3 31 50 64 56  7 42 35 48 29 65 38 68\n",
      " 32 55 37 36 41  6  4 33 67 23 57 61 14 20 53 40 59 24 44 19 54 51 26  0\n",
      " 39]\n",
      "PhoneService : ['No' 'Yes']\n",
      "MultipleLines : ['No phone service' 'No' 'Yes']\n",
      "InternetService : ['DSL' 'Fiber optic' 'No']\n",
      "OnlineSecurity : ['No' 'Yes' 'No internet service']\n",
      "OnlineBackup : ['Yes' 'No' 'No internet service']\n",
      "DeviceProtection : ['No' 'Yes' 'No internet service']\n",
      "TechSupport : ['No' 'Yes' 'No internet service']\n",
      "StreamingTV : ['No' 'Yes' 'No internet service']\n",
      "StreamingMovies : ['No' 'Yes' 'No internet service']\n",
      "Contract : ['Month-to-month' 'One year' 'Two year']\n",
      "PaperlessBilling : ['Yes' 'No']\n",
      "PaymentMethod : ['Electronic check' 'Mailed check' 'Bank transfer (automatic)'\n",
      " 'Credit card (automatic)']\n",
      "MonthlyCharges : [29.85 56.95 53.85 ... 63.1  44.2  78.7 ]\n",
      "TotalCharges : ['29.85' '1889.5' '108.15' ... '346.45' '306.6' '6844.5']\n",
      "Churn : ['No' 'Yes']\n"
     ]
    }
   ],
   "source": [
    "for i in list1:\n",
    "    value = df[i].unique()\n",
    "    print(i ,':', value)"
   ]
  },
  {
   "cell_type": "code",
   "execution_count": 8,
   "id": "54bbd347",
   "metadata": {},
   "outputs": [
    {
     "data": {
      "text/plain": [
       "array(['Female', 'Male'], dtype=object)"
      ]
     },
     "execution_count": 8,
     "metadata": {},
     "output_type": "execute_result"
    }
   ],
   "source": [
    "df['gender'].unique()"
   ]
  },
  {
   "cell_type": "code",
   "execution_count": 9,
   "id": "b1960b5c",
   "metadata": {},
   "outputs": [
    {
     "data": {
      "text/plain": [
       "No     5174\n",
       "Yes    1869\n",
       "Name: Churn, dtype: int64"
      ]
     },
     "execution_count": 9,
     "metadata": {},
     "output_type": "execute_result"
    }
   ],
   "source": [
    "df['Churn'].value_counts()"
   ]
  },
  {
   "cell_type": "code",
   "execution_count": 10,
   "id": "a4729879",
   "metadata": {},
   "outputs": [
    {
     "name": "stdout",
     "output_type": "stream",
     "text": [
      "Yes class distribution 26.536987079369588 %\n",
      "No class distribution 73.4630129206304 %\n"
     ]
    }
   ],
   "source": [
    "#Data distribution :\n",
    "No = ((5174)/(5174+1869))*100 \n",
    "Yes = ((1869)/(5174+1869))*100 \n",
    "print('Yes class distribution',Yes,'%')\n",
    "print('No class distribution',No,'%')"
   ]
  },
  {
   "cell_type": "markdown",
   "id": "72153c26",
   "metadata": {},
   "source": [
    "Our dataset is balanced"
   ]
  },
  {
   "cell_type": "raw",
   "id": "234f53e0",
   "metadata": {},
   "source": [
    "Replacing NUll values (space) with 0"
   ]
  },
  {
   "cell_type": "code",
   "execution_count": 11,
   "id": "feaaa157",
   "metadata": {
    "scrolled": true
   },
   "outputs": [],
   "source": [
    "df.loc[df['TotalCharges'] == ' ', 'TotalCharges'] = 0"
   ]
  },
  {
   "cell_type": "markdown",
   "id": "e64b2f63",
   "metadata": {},
   "source": [
    "# Converting Categorical columns to numerical:"
   ]
  },
  {
   "cell_type": "code",
   "execution_count": 12,
   "id": "babf15e7",
   "metadata": {},
   "outputs": [],
   "source": [
    "df['TotalCharges'] = df['TotalCharges'].astype(float, errors='raise')"
   ]
  },
  {
   "cell_type": "code",
   "execution_count": 13,
   "id": "32444361",
   "metadata": {
    "scrolled": true
   },
   "outputs": [],
   "source": [
    "object_cols = df.select_dtypes(include='object').columns.tolist()\n",
    "#object_cols.remove('customerID')"
   ]
  },
  {
   "cell_type": "code",
   "execution_count": 14,
   "id": "dc1e6a0e",
   "metadata": {},
   "outputs": [],
   "source": [
    "encoder = LabelEncoder()\n",
    "\n",
    "# Dictionary to store encoders for each column\n",
    "encoders = {}\n",
    "# Encode each categorical column\n",
    "for col in object_cols:\n",
    "    encoders[col] = LabelEncoder()\n",
    "    df[col] = encoders[col].fit_transform(df[col])\n",
    "\n",
    "# Decode each encoded column\n",
    "# for col, encoder in encoders.items():\n",
    "#     df[f'{col}_Decoded'] = encoder.inverse_transform(df[col])   "
   ]
  },
  {
   "cell_type": "code",
   "execution_count": 15,
   "id": "e0fdfab0",
   "metadata": {
    "scrolled": true
   },
   "outputs": [
    {
     "data": {
      "text/html": [
       "<div>\n",
       "<style scoped>\n",
       "    .dataframe tbody tr th:only-of-type {\n",
       "        vertical-align: middle;\n",
       "    }\n",
       "\n",
       "    .dataframe tbody tr th {\n",
       "        vertical-align: top;\n",
       "    }\n",
       "\n",
       "    .dataframe thead th {\n",
       "        text-align: right;\n",
       "    }\n",
       "</style>\n",
       "<table border=\"1\" class=\"dataframe\">\n",
       "  <thead>\n",
       "    <tr style=\"text-align: right;\">\n",
       "      <th></th>\n",
       "      <th>customerID</th>\n",
       "      <th>gender</th>\n",
       "      <th>SeniorCitizen</th>\n",
       "      <th>Partner</th>\n",
       "      <th>Dependents</th>\n",
       "      <th>tenure</th>\n",
       "      <th>PhoneService</th>\n",
       "      <th>MultipleLines</th>\n",
       "      <th>InternetService</th>\n",
       "      <th>OnlineSecurity</th>\n",
       "      <th>...</th>\n",
       "      <th>DeviceProtection</th>\n",
       "      <th>TechSupport</th>\n",
       "      <th>StreamingTV</th>\n",
       "      <th>StreamingMovies</th>\n",
       "      <th>Contract</th>\n",
       "      <th>PaperlessBilling</th>\n",
       "      <th>PaymentMethod</th>\n",
       "      <th>MonthlyCharges</th>\n",
       "      <th>TotalCharges</th>\n",
       "      <th>Churn</th>\n",
       "    </tr>\n",
       "  </thead>\n",
       "  <tbody>\n",
       "    <tr>\n",
       "      <th>0</th>\n",
       "      <td>5375</td>\n",
       "      <td>0</td>\n",
       "      <td>0</td>\n",
       "      <td>1</td>\n",
       "      <td>0</td>\n",
       "      <td>1</td>\n",
       "      <td>0</td>\n",
       "      <td>1</td>\n",
       "      <td>0</td>\n",
       "      <td>0</td>\n",
       "      <td>...</td>\n",
       "      <td>0</td>\n",
       "      <td>0</td>\n",
       "      <td>0</td>\n",
       "      <td>0</td>\n",
       "      <td>0</td>\n",
       "      <td>1</td>\n",
       "      <td>2</td>\n",
       "      <td>29.85</td>\n",
       "      <td>29.85</td>\n",
       "      <td>0</td>\n",
       "    </tr>\n",
       "    <tr>\n",
       "      <th>1</th>\n",
       "      <td>3962</td>\n",
       "      <td>1</td>\n",
       "      <td>0</td>\n",
       "      <td>0</td>\n",
       "      <td>0</td>\n",
       "      <td>34</td>\n",
       "      <td>1</td>\n",
       "      <td>0</td>\n",
       "      <td>0</td>\n",
       "      <td>2</td>\n",
       "      <td>...</td>\n",
       "      <td>2</td>\n",
       "      <td>0</td>\n",
       "      <td>0</td>\n",
       "      <td>0</td>\n",
       "      <td>1</td>\n",
       "      <td>0</td>\n",
       "      <td>3</td>\n",
       "      <td>56.95</td>\n",
       "      <td>1889.50</td>\n",
       "      <td>0</td>\n",
       "    </tr>\n",
       "    <tr>\n",
       "      <th>2</th>\n",
       "      <td>2564</td>\n",
       "      <td>1</td>\n",
       "      <td>0</td>\n",
       "      <td>0</td>\n",
       "      <td>0</td>\n",
       "      <td>2</td>\n",
       "      <td>1</td>\n",
       "      <td>0</td>\n",
       "      <td>0</td>\n",
       "      <td>2</td>\n",
       "      <td>...</td>\n",
       "      <td>0</td>\n",
       "      <td>0</td>\n",
       "      <td>0</td>\n",
       "      <td>0</td>\n",
       "      <td>0</td>\n",
       "      <td>1</td>\n",
       "      <td>3</td>\n",
       "      <td>53.85</td>\n",
       "      <td>108.15</td>\n",
       "      <td>1</td>\n",
       "    </tr>\n",
       "    <tr>\n",
       "      <th>3</th>\n",
       "      <td>5535</td>\n",
       "      <td>1</td>\n",
       "      <td>0</td>\n",
       "      <td>0</td>\n",
       "      <td>0</td>\n",
       "      <td>45</td>\n",
       "      <td>0</td>\n",
       "      <td>1</td>\n",
       "      <td>0</td>\n",
       "      <td>2</td>\n",
       "      <td>...</td>\n",
       "      <td>2</td>\n",
       "      <td>2</td>\n",
       "      <td>0</td>\n",
       "      <td>0</td>\n",
       "      <td>1</td>\n",
       "      <td>0</td>\n",
       "      <td>0</td>\n",
       "      <td>42.30</td>\n",
       "      <td>1840.75</td>\n",
       "      <td>0</td>\n",
       "    </tr>\n",
       "    <tr>\n",
       "      <th>4</th>\n",
       "      <td>6511</td>\n",
       "      <td>0</td>\n",
       "      <td>0</td>\n",
       "      <td>0</td>\n",
       "      <td>0</td>\n",
       "      <td>2</td>\n",
       "      <td>1</td>\n",
       "      <td>0</td>\n",
       "      <td>1</td>\n",
       "      <td>0</td>\n",
       "      <td>...</td>\n",
       "      <td>0</td>\n",
       "      <td>0</td>\n",
       "      <td>0</td>\n",
       "      <td>0</td>\n",
       "      <td>0</td>\n",
       "      <td>1</td>\n",
       "      <td>2</td>\n",
       "      <td>70.70</td>\n",
       "      <td>151.65</td>\n",
       "      <td>1</td>\n",
       "    </tr>\n",
       "  </tbody>\n",
       "</table>\n",
       "<p>5 rows × 21 columns</p>\n",
       "</div>"
      ],
      "text/plain": [
       "   customerID  gender  SeniorCitizen  Partner  Dependents  tenure  \\\n",
       "0        5375       0              0        1           0       1   \n",
       "1        3962       1              0        0           0      34   \n",
       "2        2564       1              0        0           0       2   \n",
       "3        5535       1              0        0           0      45   \n",
       "4        6511       0              0        0           0       2   \n",
       "\n",
       "   PhoneService  MultipleLines  InternetService  OnlineSecurity  ...  \\\n",
       "0             0              1                0               0  ...   \n",
       "1             1              0                0               2  ...   \n",
       "2             1              0                0               2  ...   \n",
       "3             0              1                0               2  ...   \n",
       "4             1              0                1               0  ...   \n",
       "\n",
       "   DeviceProtection  TechSupport  StreamingTV  StreamingMovies  Contract  \\\n",
       "0                 0            0            0                0         0   \n",
       "1                 2            0            0                0         1   \n",
       "2                 0            0            0                0         0   \n",
       "3                 2            2            0                0         1   \n",
       "4                 0            0            0                0         0   \n",
       "\n",
       "   PaperlessBilling  PaymentMethod  MonthlyCharges  TotalCharges  Churn  \n",
       "0                 1              2           29.85         29.85      0  \n",
       "1                 0              3           56.95       1889.50      0  \n",
       "2                 1              3           53.85        108.15      1  \n",
       "3                 0              0           42.30       1840.75      0  \n",
       "4                 1              2           70.70        151.65      1  \n",
       "\n",
       "[5 rows x 21 columns]"
      ]
     },
     "execution_count": 15,
     "metadata": {},
     "output_type": "execute_result"
    }
   ],
   "source": [
    "df.head()"
   ]
  },
  {
   "cell_type": "raw",
   "id": "8df1bd0f",
   "metadata": {},
   "source": [
    "Customer Churn :\n",
    "Yes - 1\n",
    "No - 0"
   ]
  },
  {
   "cell_type": "markdown",
   "id": "fe41fd5f",
   "metadata": {},
   "source": [
    "# Minmax scaling:"
   ]
  },
  {
   "cell_type": "code",
   "execution_count": 16,
   "id": "e66a7be9",
   "metadata": {
    "scrolled": true
   },
   "outputs": [],
   "source": [
    "minmax_col = df.columns.to_list()"
   ]
  },
  {
   "cell_type": "code",
   "execution_count": 17,
   "id": "e9824f03",
   "metadata": {},
   "outputs": [],
   "source": [
    "minmax_col.remove('customerID')\n",
    "minmax_col.remove('Churn')"
   ]
  },
  {
   "cell_type": "code",
   "execution_count": 18,
   "id": "ce969c7d",
   "metadata": {},
   "outputs": [],
   "source": [
    "scaler = MinMaxScaler()"
   ]
  },
  {
   "cell_type": "code",
   "execution_count": 19,
   "id": "c9f32879",
   "metadata": {},
   "outputs": [],
   "source": [
    "df[minmax_col] = scaler.fit_transform(df[minmax_col])"
   ]
  },
  {
   "cell_type": "code",
   "execution_count": 20,
   "id": "8d6e69ad",
   "metadata": {},
   "outputs": [
    {
     "data": {
      "text/html": [
       "<div>\n",
       "<style scoped>\n",
       "    .dataframe tbody tr th:only-of-type {\n",
       "        vertical-align: middle;\n",
       "    }\n",
       "\n",
       "    .dataframe tbody tr th {\n",
       "        vertical-align: top;\n",
       "    }\n",
       "\n",
       "    .dataframe thead th {\n",
       "        text-align: right;\n",
       "    }\n",
       "</style>\n",
       "<table border=\"1\" class=\"dataframe\">\n",
       "  <thead>\n",
       "    <tr style=\"text-align: right;\">\n",
       "      <th></th>\n",
       "      <th>customerID</th>\n",
       "      <th>gender</th>\n",
       "      <th>SeniorCitizen</th>\n",
       "      <th>Partner</th>\n",
       "      <th>Dependents</th>\n",
       "      <th>tenure</th>\n",
       "      <th>PhoneService</th>\n",
       "      <th>MultipleLines</th>\n",
       "      <th>InternetService</th>\n",
       "      <th>OnlineSecurity</th>\n",
       "      <th>...</th>\n",
       "      <th>DeviceProtection</th>\n",
       "      <th>TechSupport</th>\n",
       "      <th>StreamingTV</th>\n",
       "      <th>StreamingMovies</th>\n",
       "      <th>Contract</th>\n",
       "      <th>PaperlessBilling</th>\n",
       "      <th>PaymentMethod</th>\n",
       "      <th>MonthlyCharges</th>\n",
       "      <th>TotalCharges</th>\n",
       "      <th>Churn</th>\n",
       "    </tr>\n",
       "  </thead>\n",
       "  <tbody>\n",
       "    <tr>\n",
       "      <th>0</th>\n",
       "      <td>5375</td>\n",
       "      <td>0.0</td>\n",
       "      <td>0.0</td>\n",
       "      <td>1.0</td>\n",
       "      <td>0.0</td>\n",
       "      <td>0.013889</td>\n",
       "      <td>0.0</td>\n",
       "      <td>0.5</td>\n",
       "      <td>0.0</td>\n",
       "      <td>0.0</td>\n",
       "      <td>...</td>\n",
       "      <td>0.0</td>\n",
       "      <td>0.0</td>\n",
       "      <td>0.0</td>\n",
       "      <td>0.0</td>\n",
       "      <td>0.0</td>\n",
       "      <td>1.0</td>\n",
       "      <td>0.666667</td>\n",
       "      <td>0.115423</td>\n",
       "      <td>0.003437</td>\n",
       "      <td>0</td>\n",
       "    </tr>\n",
       "    <tr>\n",
       "      <th>1</th>\n",
       "      <td>3962</td>\n",
       "      <td>1.0</td>\n",
       "      <td>0.0</td>\n",
       "      <td>0.0</td>\n",
       "      <td>0.0</td>\n",
       "      <td>0.472222</td>\n",
       "      <td>1.0</td>\n",
       "      <td>0.0</td>\n",
       "      <td>0.0</td>\n",
       "      <td>1.0</td>\n",
       "      <td>...</td>\n",
       "      <td>1.0</td>\n",
       "      <td>0.0</td>\n",
       "      <td>0.0</td>\n",
       "      <td>0.0</td>\n",
       "      <td>0.5</td>\n",
       "      <td>0.0</td>\n",
       "      <td>1.000000</td>\n",
       "      <td>0.385075</td>\n",
       "      <td>0.217564</td>\n",
       "      <td>0</td>\n",
       "    </tr>\n",
       "    <tr>\n",
       "      <th>2</th>\n",
       "      <td>2564</td>\n",
       "      <td>1.0</td>\n",
       "      <td>0.0</td>\n",
       "      <td>0.0</td>\n",
       "      <td>0.0</td>\n",
       "      <td>0.027778</td>\n",
       "      <td>1.0</td>\n",
       "      <td>0.0</td>\n",
       "      <td>0.0</td>\n",
       "      <td>1.0</td>\n",
       "      <td>...</td>\n",
       "      <td>0.0</td>\n",
       "      <td>0.0</td>\n",
       "      <td>0.0</td>\n",
       "      <td>0.0</td>\n",
       "      <td>0.0</td>\n",
       "      <td>1.0</td>\n",
       "      <td>1.000000</td>\n",
       "      <td>0.354229</td>\n",
       "      <td>0.012453</td>\n",
       "      <td>1</td>\n",
       "    </tr>\n",
       "    <tr>\n",
       "      <th>3</th>\n",
       "      <td>5535</td>\n",
       "      <td>1.0</td>\n",
       "      <td>0.0</td>\n",
       "      <td>0.0</td>\n",
       "      <td>0.0</td>\n",
       "      <td>0.625000</td>\n",
       "      <td>0.0</td>\n",
       "      <td>0.5</td>\n",
       "      <td>0.0</td>\n",
       "      <td>1.0</td>\n",
       "      <td>...</td>\n",
       "      <td>1.0</td>\n",
       "      <td>1.0</td>\n",
       "      <td>0.0</td>\n",
       "      <td>0.0</td>\n",
       "      <td>0.5</td>\n",
       "      <td>0.0</td>\n",
       "      <td>0.000000</td>\n",
       "      <td>0.239303</td>\n",
       "      <td>0.211951</td>\n",
       "      <td>0</td>\n",
       "    </tr>\n",
       "    <tr>\n",
       "      <th>4</th>\n",
       "      <td>6511</td>\n",
       "      <td>0.0</td>\n",
       "      <td>0.0</td>\n",
       "      <td>0.0</td>\n",
       "      <td>0.0</td>\n",
       "      <td>0.027778</td>\n",
       "      <td>1.0</td>\n",
       "      <td>0.0</td>\n",
       "      <td>0.5</td>\n",
       "      <td>0.0</td>\n",
       "      <td>...</td>\n",
       "      <td>0.0</td>\n",
       "      <td>0.0</td>\n",
       "      <td>0.0</td>\n",
       "      <td>0.0</td>\n",
       "      <td>0.0</td>\n",
       "      <td>1.0</td>\n",
       "      <td>0.666667</td>\n",
       "      <td>0.521891</td>\n",
       "      <td>0.017462</td>\n",
       "      <td>1</td>\n",
       "    </tr>\n",
       "  </tbody>\n",
       "</table>\n",
       "<p>5 rows × 21 columns</p>\n",
       "</div>"
      ],
      "text/plain": [
       "   customerID  gender  SeniorCitizen  Partner  Dependents    tenure  \\\n",
       "0        5375     0.0            0.0      1.0         0.0  0.013889   \n",
       "1        3962     1.0            0.0      0.0         0.0  0.472222   \n",
       "2        2564     1.0            0.0      0.0         0.0  0.027778   \n",
       "3        5535     1.0            0.0      0.0         0.0  0.625000   \n",
       "4        6511     0.0            0.0      0.0         0.0  0.027778   \n",
       "\n",
       "   PhoneService  MultipleLines  InternetService  OnlineSecurity  ...  \\\n",
       "0           0.0            0.5              0.0             0.0  ...   \n",
       "1           1.0            0.0              0.0             1.0  ...   \n",
       "2           1.0            0.0              0.0             1.0  ...   \n",
       "3           0.0            0.5              0.0             1.0  ...   \n",
       "4           1.0            0.0              0.5             0.0  ...   \n",
       "\n",
       "   DeviceProtection  TechSupport  StreamingTV  StreamingMovies  Contract  \\\n",
       "0               0.0          0.0          0.0              0.0       0.0   \n",
       "1               1.0          0.0          0.0              0.0       0.5   \n",
       "2               0.0          0.0          0.0              0.0       0.0   \n",
       "3               1.0          1.0          0.0              0.0       0.5   \n",
       "4               0.0          0.0          0.0              0.0       0.0   \n",
       "\n",
       "   PaperlessBilling  PaymentMethod  MonthlyCharges  TotalCharges  Churn  \n",
       "0               1.0       0.666667        0.115423      0.003437      0  \n",
       "1               0.0       1.000000        0.385075      0.217564      0  \n",
       "2               1.0       1.000000        0.354229      0.012453      1  \n",
       "3               0.0       0.000000        0.239303      0.211951      0  \n",
       "4               1.0       0.666667        0.521891      0.017462      1  \n",
       "\n",
       "[5 rows x 21 columns]"
      ]
     },
     "execution_count": 20,
     "metadata": {},
     "output_type": "execute_result"
    }
   ],
   "source": [
    "df.head()"
   ]
  },
  {
   "cell_type": "markdown",
   "id": "bb383a30",
   "metadata": {},
   "source": [
    "# Train test split"
   ]
  },
  {
   "cell_type": "code",
   "execution_count": 21,
   "id": "cbdeca7b",
   "metadata": {},
   "outputs": [],
   "source": [
    "X = df.drop(columns=['Churn', 'customerID'])\n",
    "y = df['Churn'].to_frame()"
   ]
  },
  {
   "cell_type": "code",
   "execution_count": 22,
   "id": "db47155e",
   "metadata": {},
   "outputs": [],
   "source": [
    "X_train, X_test, y_train, y_test = train_test_split(X,y,test_size=0.2,random_state=5)"
   ]
  },
  {
   "cell_type": "markdown",
   "id": "90b461e1",
   "metadata": {},
   "source": [
    "# Model:"
   ]
  },
  {
   "cell_type": "markdown",
   "id": "bdc5a97e",
   "metadata": {},
   "source": [
    "# ANN:"
   ]
  },
  {
   "cell_type": "code",
   "execution_count": 23,
   "id": "309ffb56",
   "metadata": {},
   "outputs": [
    {
     "name": "stdout",
     "output_type": "stream",
     "text": [
      "Epoch 1/50\n",
      "177/177 [==============================] - 1s 2ms/step - loss: 0.4837 - accuracy: 0.7607\n",
      "Epoch 2/50\n",
      "177/177 [==============================] - 0s 2ms/step - loss: 0.4284 - accuracy: 0.7969\n",
      "Epoch 3/50\n",
      "177/177 [==============================] - 0s 2ms/step - loss: 0.4245 - accuracy: 0.7969\n",
      "Epoch 4/50\n",
      "177/177 [==============================] - 0s 2ms/step - loss: 0.4178 - accuracy: 0.8026\n",
      "Epoch 5/50\n",
      "177/177 [==============================] - 0s 2ms/step - loss: 0.4168 - accuracy: 0.8019\n",
      "Epoch 6/50\n",
      "177/177 [==============================] - 0s 2ms/step - loss: 0.4149 - accuracy: 0.8060\n",
      "Epoch 7/50\n",
      "177/177 [==============================] - 0s 2ms/step - loss: 0.4141 - accuracy: 0.8083\n",
      "Epoch 8/50\n",
      "177/177 [==============================] - 0s 2ms/step - loss: 0.4124 - accuracy: 0.8044\n",
      "Epoch 9/50\n",
      "177/177 [==============================] - 0s 2ms/step - loss: 0.4110 - accuracy: 0.8088\n",
      "Epoch 10/50\n",
      "177/177 [==============================] - 0s 2ms/step - loss: 0.4096 - accuracy: 0.8152\n",
      "Epoch 11/50\n",
      "177/177 [==============================] - 0s 2ms/step - loss: 0.4061 - accuracy: 0.8106\n",
      "Epoch 12/50\n",
      "177/177 [==============================] - 0s 1ms/step - loss: 0.4048 - accuracy: 0.8108\n",
      "Epoch 13/50\n",
      "177/177 [==============================] - 0s 2ms/step - loss: 0.4035 - accuracy: 0.8113\n",
      "Epoch 14/50\n",
      "177/177 [==============================] - 0s 1ms/step - loss: 0.4050 - accuracy: 0.8140\n",
      "Epoch 15/50\n",
      "177/177 [==============================] - 0s 2ms/step - loss: 0.4020 - accuracy: 0.8142\n",
      "Epoch 16/50\n",
      "177/177 [==============================] - 0s 2ms/step - loss: 0.4011 - accuracy: 0.8147\n",
      "Epoch 17/50\n",
      "177/177 [==============================] - 0s 2ms/step - loss: 0.3995 - accuracy: 0.8159\n",
      "Epoch 18/50\n",
      "177/177 [==============================] - 0s 2ms/step - loss: 0.3978 - accuracy: 0.8156\n",
      "Epoch 19/50\n",
      "177/177 [==============================] - 0s 2ms/step - loss: 0.3976 - accuracy: 0.8166\n",
      "Epoch 20/50\n",
      "177/177 [==============================] - 0s 2ms/step - loss: 0.3948 - accuracy: 0.8184\n",
      "Epoch 21/50\n",
      "177/177 [==============================] - 0s 2ms/step - loss: 0.3937 - accuracy: 0.8191\n",
      "Epoch 22/50\n",
      "177/177 [==============================] - 0s 2ms/step - loss: 0.3927 - accuracy: 0.8190\n",
      "Epoch 23/50\n",
      "177/177 [==============================] - 0s 2ms/step - loss: 0.3918 - accuracy: 0.8174\n",
      "Epoch 24/50\n",
      "177/177 [==============================] - 0s 2ms/step - loss: 0.3891 - accuracy: 0.8229\n",
      "Epoch 25/50\n",
      "177/177 [==============================] - 0s 2ms/step - loss: 0.3874 - accuracy: 0.8248\n",
      "Epoch 26/50\n",
      "177/177 [==============================] - 0s 2ms/step - loss: 0.3897 - accuracy: 0.8198\n",
      "Epoch 27/50\n",
      "177/177 [==============================] - 0s 2ms/step - loss: 0.3863 - accuracy: 0.8220\n",
      "Epoch 28/50\n",
      "177/177 [==============================] - 0s 2ms/step - loss: 0.3854 - accuracy: 0.8218\n",
      "Epoch 29/50\n",
      "177/177 [==============================] - 0s 2ms/step - loss: 0.3840 - accuracy: 0.8248\n",
      "Epoch 30/50\n",
      "177/177 [==============================] - 0s 2ms/step - loss: 0.3830 - accuracy: 0.8262\n",
      "Epoch 31/50\n",
      "177/177 [==============================] - 0s 2ms/step - loss: 0.3824 - accuracy: 0.8232\n",
      "Epoch 32/50\n",
      "177/177 [==============================] - 0s 2ms/step - loss: 0.3797 - accuracy: 0.8245\n",
      "Epoch 33/50\n",
      "177/177 [==============================] - 0s 2ms/step - loss: 0.3809 - accuracy: 0.8206\n",
      "Epoch 34/50\n",
      "177/177 [==============================] - 0s 2ms/step - loss: 0.3774 - accuracy: 0.8216\n",
      "Epoch 35/50\n",
      "177/177 [==============================] - 0s 1ms/step - loss: 0.3756 - accuracy: 0.8273\n",
      "Epoch 36/50\n",
      "177/177 [==============================] - 0s 2ms/step - loss: 0.3749 - accuracy: 0.8268\n",
      "Epoch 37/50\n",
      "177/177 [==============================] - 0s 2ms/step - loss: 0.3730 - accuracy: 0.8275\n",
      "Epoch 38/50\n",
      "177/177 [==============================] - 0s 1ms/step - loss: 0.3711 - accuracy: 0.8289\n",
      "Epoch 39/50\n",
      "177/177 [==============================] - 0s 2ms/step - loss: 0.3717 - accuracy: 0.8303\n",
      "Epoch 40/50\n",
      "177/177 [==============================] - 0s 2ms/step - loss: 0.3694 - accuracy: 0.8293\n",
      "Epoch 41/50\n",
      "177/177 [==============================] - 0s 2ms/step - loss: 0.3693 - accuracy: 0.8291\n",
      "Epoch 42/50\n",
      "177/177 [==============================] - 0s 2ms/step - loss: 0.3690 - accuracy: 0.8333\n",
      "Epoch 43/50\n",
      "177/177 [==============================] - 0s 2ms/step - loss: 0.3663 - accuracy: 0.8305\n",
      "Epoch 44/50\n",
      "177/177 [==============================] - 0s 2ms/step - loss: 0.3655 - accuracy: 0.8344\n",
      "Epoch 45/50\n",
      "177/177 [==============================] - 0s 2ms/step - loss: 0.3646 - accuracy: 0.8346\n",
      "Epoch 46/50\n",
      "177/177 [==============================] - 0s 2ms/step - loss: 0.3625 - accuracy: 0.8314\n",
      "Epoch 47/50\n",
      "177/177 [==============================] - 0s 2ms/step - loss: 0.3616 - accuracy: 0.8346\n",
      "Epoch 48/50\n",
      "177/177 [==============================] - 0s 2ms/step - loss: 0.3597 - accuracy: 0.8355\n",
      "Epoch 49/50\n",
      "177/177 [==============================] - 0s 2ms/step - loss: 0.3606 - accuracy: 0.8346\n",
      "Epoch 50/50\n",
      "177/177 [==============================] - 0s 2ms/step - loss: 0.3577 - accuracy: 0.8379\n"
     ]
    },
    {
     "data": {
      "text/plain": [
       "<keras.callbacks.History at 0x1f3a4e38cd0>"
      ]
     },
     "execution_count": 23,
     "metadata": {},
     "output_type": "execute_result"
    }
   ],
   "source": [
    "model_ann = Sequential()\n",
    "model_ann.add(Dense(64, activation=\"relu\", input_shape=(X_train.shape[1],)))\n",
    "model_ann.add(Dense(32, activation=\"relu\"))\n",
    "model_ann.add(Dense(1, activation=\"sigmoid\"))\n",
    "\n",
    "# Compile the model\n",
    "model_ann.compile(optimizer=\"adam\", loss=\"binary_crossentropy\", metrics=[\"accuracy\"])\n",
    "\n",
    "# Train the model\n",
    "model_ann.fit(X_train, y_train, epochs=50, batch_size=32)"
   ]
  },
  {
   "cell_type": "code",
   "execution_count": 24,
   "id": "2b821340",
   "metadata": {},
   "outputs": [
    {
     "name": "stdout",
     "output_type": "stream",
     "text": [
      "45/45 [==============================] - 0s 1ms/step - loss: 0.4698 - accuracy: 0.7850\n"
     ]
    },
    {
     "data": {
      "text/plain": [
       "[0.46982887387275696, 0.7849538922309875]"
      ]
     },
     "execution_count": 24,
     "metadata": {},
     "output_type": "execute_result"
    }
   ],
   "source": [
    "model_ann.evaluate(X_test,y_test)"
   ]
  },
  {
   "cell_type": "markdown",
   "id": "98e3d01f",
   "metadata": {},
   "source": [
    "# Deep FNN:"
   ]
  },
  {
   "cell_type": "raw",
   "id": "5d82452f",
   "metadata": {
    "scrolled": true
   },
   "source": [
    "# Define the deep FNN architecture\n",
    "model_dnn = Sequential([\n",
    "    Dense(128, activation='relu', input_shape=(X_train.shape[1],)),\n",
    "    Dense(64, activation='relu'),\n",
    "    Dense(32, activation='relu'),\n",
    "    Dense(16, activation='relu'),\n",
    "    Dense(1, activation='sigmoid')\n",
    "])\n",
    "\n",
    "# Compile the model\n",
    "model_dnn.compile(optimizer='adam', loss='binary_crossentropy', metrics=['accuracy'])\n",
    "\n",
    "# Train the model\n",
    "model_dnn.fit(X_train, y_train, epochs=50, batch_size=32, validation_data=(X_test, y_test),verbose=2)\n"
   ]
  },
  {
   "cell_type": "markdown",
   "id": "41bc08d4",
   "metadata": {},
   "source": [
    "# Hyperparameter tuning  Deep Neural network:"
   ]
  },
  {
   "cell_type": "code",
   "execution_count": 25,
   "id": "0397f88e",
   "metadata": {},
   "outputs": [],
   "source": [
    "import tensorflow as tf\n",
    "from tensorflow.keras.models import Sequential\n",
    "from tensorflow.keras.layers import Dense, Dropout\n",
    "from kerastuner import HyperModel\n",
    "\n",
    "class DNNHyperModel(HyperModel):\n",
    "    def __init__(self, input_shape):\n",
    "        self.input_shape = input_shape\n",
    "\n",
    "    def build(self, hp):\n",
    "        model = Sequential()\n",
    "        model.add(Dense(units=hp.Int('units', min_value=32, max_value=128, step=16),\n",
    "                        activation='relu', input_shape=self.input_shape))\n",
    "        \n",
    "        for i in range(hp.Int('num_layers', 1, 3)):\n",
    "            model.add(Dense(units=hp.Int(f'layer_{i}_units', min_value=32, max_value=128, step=16),\n",
    "                            activation='relu'))\n",
    "            model.add(Dropout(rate=hp.Float(f'layer_{i}_dropout', min_value=0.1, max_value=0.5, step=0.1)))\n",
    "        \n",
    "        model.add(Dense(1, activation='sigmoid'))\n",
    "\n",
    "        optimizer = tf.keras.optimizers.Adam(\n",
    "            lr=hp.Float('learning_rate', min_value=1e-5, max_value=1e-2, sampling='log')\n",
    "        )\n",
    "\n",
    "        model.compile(optimizer=optimizer, loss='binary_crossentropy', metrics=['accuracy'])\n",
    "\n",
    "        return model\n"
   ]
  },
  {
   "cell_type": "code",
   "execution_count": 26,
   "id": "fb459b59",
   "metadata": {
    "scrolled": true
   },
   "outputs": [
    {
     "name": "stdout",
     "output_type": "stream",
     "text": [
      "INFO:tensorflow:Reloading Tuner from output\\ann_tuner\\tuner0.json\n",
      "INFO:tensorflow:Oracle triggered exit\n"
     ]
    }
   ],
   "source": [
    "from kerastuner.tuners import RandomSearch\n",
    "\n",
    "input_shape = (19,)  # Replace with the number of features in your dataset\n",
    "hypermodel = DNNHyperModel(input_shape)\n",
    "\n",
    "tuner = RandomSearch(\n",
    "    hypermodel,\n",
    "    objective='val_accuracy',\n",
    "    max_trials=30,\n",
    "    seed=42,\n",
    "    directory='output',\n",
    "    project_name='ann_tuner'\n",
    ")\n",
    "\n",
    "tuner.search(X_train, y_train, epochs=50, validation_data=(X_test, y_test))\n"
   ]
  },
  {
   "cell_type": "code",
   "execution_count": 27,
   "id": "f5182046",
   "metadata": {
    "scrolled": true
   },
   "outputs": [
    {
     "name": "stderr",
     "output_type": "stream",
     "text": [
      "WARNING:absl:`lr` is deprecated, please use `learning_rate` instead, or use the legacy optimizer, e.g.,tf.keras.optimizers.legacy.Adam.\n"
     ]
    },
    {
     "name": "stdout",
     "output_type": "stream",
     "text": [
      "Epoch 1/50\n",
      "177/177 [==============================] - 1s 2ms/step - loss: 0.5144 - accuracy: 0.7425\n",
      "Epoch 2/50\n",
      "177/177 [==============================] - 0s 2ms/step - loss: 0.4530 - accuracy: 0.7858\n",
      "Epoch 3/50\n",
      "177/177 [==============================] - 0s 2ms/step - loss: 0.4397 - accuracy: 0.7913\n",
      "Epoch 4/50\n",
      "177/177 [==============================] - 0s 2ms/step - loss: 0.4339 - accuracy: 0.7936\n",
      "Epoch 5/50\n",
      "177/177 [==============================] - 0s 2ms/step - loss: 0.4309 - accuracy: 0.7996\n",
      "Epoch 6/50\n",
      "177/177 [==============================] - 0s 2ms/step - loss: 0.4240 - accuracy: 0.8009\n",
      "Epoch 7/50\n",
      "177/177 [==============================] - 0s 2ms/step - loss: 0.4247 - accuracy: 0.8067\n",
      "Epoch 8/50\n",
      "177/177 [==============================] - 0s 2ms/step - loss: 0.4204 - accuracy: 0.8064\n",
      "Epoch 9/50\n",
      "177/177 [==============================] - 0s 2ms/step - loss: 0.4174 - accuracy: 0.8078\n",
      "Epoch 10/50\n",
      "177/177 [==============================] - 0s 2ms/step - loss: 0.4174 - accuracy: 0.8055\n",
      "Epoch 11/50\n",
      "177/177 [==============================] - 0s 2ms/step - loss: 0.4149 - accuracy: 0.8103\n",
      "Epoch 12/50\n",
      "177/177 [==============================] - 0s 2ms/step - loss: 0.4111 - accuracy: 0.8158\n",
      "Epoch 13/50\n",
      "177/177 [==============================] - 0s 2ms/step - loss: 0.4124 - accuracy: 0.8099\n",
      "Epoch 14/50\n",
      "177/177 [==============================] - 0s 2ms/step - loss: 0.4105 - accuracy: 0.8124\n",
      "Epoch 15/50\n",
      "177/177 [==============================] - 0s 2ms/step - loss: 0.4083 - accuracy: 0.8149\n",
      "Epoch 16/50\n",
      "177/177 [==============================] - 0s 2ms/step - loss: 0.4048 - accuracy: 0.8143\n",
      "Epoch 17/50\n",
      "177/177 [==============================] - 0s 2ms/step - loss: 0.4042 - accuracy: 0.8181\n",
      "Epoch 18/50\n",
      "177/177 [==============================] - 0s 2ms/step - loss: 0.4040 - accuracy: 0.8175\n",
      "Epoch 19/50\n",
      "177/177 [==============================] - 0s 2ms/step - loss: 0.4056 - accuracy: 0.8135\n",
      "Epoch 20/50\n",
      "177/177 [==============================] - 0s 2ms/step - loss: 0.4002 - accuracy: 0.8222\n",
      "Epoch 21/50\n",
      "177/177 [==============================] - 0s 2ms/step - loss: 0.3998 - accuracy: 0.8168\n",
      "Epoch 22/50\n",
      "177/177 [==============================] - 0s 2ms/step - loss: 0.3993 - accuracy: 0.8202\n",
      "Epoch 23/50\n",
      "177/177 [==============================] - 0s 2ms/step - loss: 0.3997 - accuracy: 0.8177\n",
      "Epoch 24/50\n",
      "177/177 [==============================] - 0s 2ms/step - loss: 0.3981 - accuracy: 0.8245\n",
      "Epoch 25/50\n",
      "177/177 [==============================] - 0s 2ms/step - loss: 0.3954 - accuracy: 0.8181\n",
      "Epoch 26/50\n",
      "177/177 [==============================] - 0s 2ms/step - loss: 0.3937 - accuracy: 0.8191\n",
      "Epoch 27/50\n",
      "177/177 [==============================] - 0s 2ms/step - loss: 0.3886 - accuracy: 0.8246\n",
      "Epoch 28/50\n",
      "177/177 [==============================] - 0s 3ms/step - loss: 0.3952 - accuracy: 0.8257\n",
      "Epoch 29/50\n",
      "177/177 [==============================] - 0s 2ms/step - loss: 0.3887 - accuracy: 0.8253\n",
      "Epoch 30/50\n",
      "177/177 [==============================] - 0s 2ms/step - loss: 0.3886 - accuracy: 0.8239\n",
      "Epoch 31/50\n",
      "177/177 [==============================] - 0s 2ms/step - loss: 0.3880 - accuracy: 0.8239\n",
      "Epoch 32/50\n",
      "177/177 [==============================] - 0s 2ms/step - loss: 0.3833 - accuracy: 0.8266\n",
      "Epoch 33/50\n",
      "177/177 [==============================] - 0s 2ms/step - loss: 0.3828 - accuracy: 0.8308\n",
      "Epoch 34/50\n",
      "177/177 [==============================] - 0s 2ms/step - loss: 0.3784 - accuracy: 0.8307\n",
      "Epoch 35/50\n",
      "177/177 [==============================] - 0s 2ms/step - loss: 0.3822 - accuracy: 0.8285\n",
      "Epoch 36/50\n",
      "177/177 [==============================] - 0s 2ms/step - loss: 0.3774 - accuracy: 0.8353\n",
      "Epoch 37/50\n",
      "177/177 [==============================] - 0s 2ms/step - loss: 0.3770 - accuracy: 0.8289\n",
      "Epoch 38/50\n",
      "177/177 [==============================] - 0s 2ms/step - loss: 0.3760 - accuracy: 0.8291\n",
      "Epoch 39/50\n",
      "177/177 [==============================] - 0s 2ms/step - loss: 0.3709 - accuracy: 0.8328\n",
      "Epoch 40/50\n",
      "177/177 [==============================] - 0s 2ms/step - loss: 0.3701 - accuracy: 0.8328\n",
      "Epoch 41/50\n",
      "177/177 [==============================] - 0s 2ms/step - loss: 0.3733 - accuracy: 0.8337\n",
      "Epoch 42/50\n",
      "177/177 [==============================] - 0s 2ms/step - loss: 0.3734 - accuracy: 0.8300\n",
      "Epoch 43/50\n",
      "177/177 [==============================] - 0s 2ms/step - loss: 0.3712 - accuracy: 0.8328\n",
      "Epoch 44/50\n",
      "177/177 [==============================] - 0s 2ms/step - loss: 0.3683 - accuracy: 0.8335\n",
      "Epoch 45/50\n",
      "177/177 [==============================] - 0s 2ms/step - loss: 0.3670 - accuracy: 0.8335\n",
      "Epoch 46/50\n",
      "177/177 [==============================] - 0s 2ms/step - loss: 0.3679 - accuracy: 0.8358\n",
      "Epoch 47/50\n",
      "177/177 [==============================] - 0s 2ms/step - loss: 0.3632 - accuracy: 0.8342\n",
      "Epoch 48/50\n",
      "177/177 [==============================] - 0s 2ms/step - loss: 0.3618 - accuracy: 0.8340\n",
      "Epoch 49/50\n",
      "177/177 [==============================] - 0s 2ms/step - loss: 0.3629 - accuracy: 0.8383\n",
      "Epoch 50/50\n",
      "177/177 [==============================] - 0s 2ms/step - loss: 0.3613 - accuracy: 0.8388\n"
     ]
    },
    {
     "data": {
      "text/plain": [
       "<keras.callbacks.History at 0x1f3a78d9370>"
      ]
     },
     "execution_count": 27,
     "metadata": {},
     "output_type": "execute_result"
    }
   ],
   "source": [
    "best_hyperparameters = tuner.get_best_hyperparameters(num_trials=1)[0]\n",
    "\n",
    "# Build the best model\n",
    "best_model = hypermodel.build(best_hyperparameters)\n",
    "\n",
    "# Train the best model with the full dataset\n",
    "best_model.fit(X_train, y_train, epochs=50)\n"
   ]
  },
  {
   "cell_type": "code",
   "execution_count": 28,
   "id": "0449926d",
   "metadata": {},
   "outputs": [
    {
     "name": "stdout",
     "output_type": "stream",
     "text": [
      "45/45 [==============================] - 0s 2ms/step - loss: 0.4549 - accuracy: 0.7921\n"
     ]
    },
    {
     "data": {
      "text/plain": [
       "[0.4549309313297272, 0.7920510768890381]"
      ]
     },
     "execution_count": 28,
     "metadata": {},
     "output_type": "execute_result"
    }
   ],
   "source": [
    "best_model.evaluate(X_test,y_test)"
   ]
  },
  {
   "cell_type": "code",
   "execution_count": 29,
   "id": "ac565b60",
   "metadata": {},
   "outputs": [],
   "source": [
    "best_model.save('model.h5')"
   ]
  },
  {
   "cell_type": "code",
   "execution_count": 32,
   "id": "1132fe47",
   "metadata": {
    "scrolled": true
   },
   "outputs": [],
   "source": [
    "input_data = [ 'Female', 0, 'No', 'No', 1, 'Yes', 'No phone service', 'DSL', 'No','Yes',\n",
    "    'No', 'No', 'No', 'No', 'Month-to-month', 'Yes', 'Electronic check', 50, 100\n",
    "]"
   ]
  },
  {
   "cell_type": "code",
   "execution_count": 56,
   "id": "14dd19f4",
   "metadata": {},
   "outputs": [
    {
     "name": "stdout",
     "output_type": "stream",
     "text": [
      "1/1 [==============================] - 0s 46ms/step\n"
     ]
    },
    {
     "data": {
      "text/plain": [
       "array([[0.58214253]], dtype=float32)"
      ]
     },
     "execution_count": 56,
     "metadata": {},
     "output_type": "execute_result"
    }
   ],
   "source": [
    "prediction = best_model.predict([values_list])\n",
    "prediction"
   ]
  },
  {
   "cell_type": "code",
   "execution_count": 55,
   "id": "1b62333c",
   "metadata": {},
   "outputs": [
    {
     "data": {
      "text/plain": [
       "Churn    0\n",
       "Name: 5035, dtype: int32"
      ]
     },
     "execution_count": 55,
     "metadata": {},
     "output_type": "execute_result"
    }
   ],
   "source": [
    "# Accessing the first row of the DataFrame\n",
    "row = X_test.iloc[1]\n",
    "\n",
    "# Converting the row to a NumPy array\n",
    "values_np = row.values\n",
    "\n",
    "# Converting the row to a list\n",
    "values_list = row.tolist()\n",
    "values_list\n",
    "y_test.iloc[1]"
   ]
  }
 ],
 "metadata": {
  "kernelspec": {
   "display_name": "Python 3 (ipykernel)",
   "language": "python",
   "name": "python3"
  },
  "language_info": {
   "codemirror_mode": {
    "name": "ipython",
    "version": 3
   },
   "file_extension": ".py",
   "mimetype": "text/x-python",
   "name": "python",
   "nbconvert_exporter": "python",
   "pygments_lexer": "ipython3",
   "version": "3.9.7"
  }
 },
 "nbformat": 4,
 "nbformat_minor": 5
}
